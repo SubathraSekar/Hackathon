{
 "cells": [
  {
   "cell_type": "code",
   "execution_count": 49,
   "metadata": {},
   "outputs": [],
   "source": [
    "import numpy as np\n",
    "import pandas as pd\n",
    "from sklearn.model_selection import train_test_split\n",
    "from sklearn.linear_model import LinearRegression,Lasso,Ridge,ElasticNet\n",
    "from sklearn.metrics import accuracy_score,mean_squared_error\n",
    "from sklearn.preprocessing import PolynomialFeatures\n",
    "from sklearn.svm import SVR\n",
    "from sklearn.tree import DecisionTreeRegressor\n",
    "from sklearn.ensemble import RandomForestRegressor,AdaBoostRegressor,GradientBoostingRegressor,VotingRegressor\n",
    "import seaborn as sns"
   ]
  },
  {
   "cell_type": "code",
   "execution_count": 2,
   "metadata": {},
   "outputs": [],
   "source": [
    "train=pd.read_csv('Train.csv')\n",
    "test=pd.read_csv('Test.csv')"
   ]
  },
  {
   "cell_type": "code",
   "execution_count": 3,
   "metadata": {},
   "outputs": [
    {
     "data": {
      "text/html": [
       "<div>\n",
       "<style scoped>\n",
       "    .dataframe tbody tr th:only-of-type {\n",
       "        vertical-align: middle;\n",
       "    }\n",
       "\n",
       "    .dataframe tbody tr th {\n",
       "        vertical-align: top;\n",
       "    }\n",
       "\n",
       "    .dataframe thead th {\n",
       "        text-align: right;\n",
       "    }\n",
       "</style>\n",
       "<table border=\"1\" class=\"dataframe\">\n",
       "  <thead>\n",
       "    <tr style=\"text-align: right;\">\n",
       "      <th></th>\n",
       "      <th>mass_npea</th>\n",
       "      <th>size_npear</th>\n",
       "      <th>malign_ratio</th>\n",
       "      <th>damage_size</th>\n",
       "      <th>exposed_area</th>\n",
       "      <th>std_dev_malign</th>\n",
       "      <th>err_malign</th>\n",
       "      <th>malign_penalty</th>\n",
       "      <th>damage_ratio</th>\n",
       "      <th>tumor_size</th>\n",
       "    </tr>\n",
       "  </thead>\n",
       "  <tbody>\n",
       "    <tr>\n",
       "      <th>0</th>\n",
       "      <td>6930.90</td>\n",
       "      <td>2919.02</td>\n",
       "      <td>0.42116</td>\n",
       "      <td>51.8298</td>\n",
       "      <td>9.888294e+05</td>\n",
       "      <td>109.487</td>\n",
       "      <td>2758.76</td>\n",
       "      <td>72</td>\n",
       "      <td>39.3620</td>\n",
       "      <td>14.103</td>\n",
       "    </tr>\n",
       "    <tr>\n",
       "      <th>1</th>\n",
       "      <td>15635.70</td>\n",
       "      <td>4879.36</td>\n",
       "      <td>0.31206</td>\n",
       "      <td>223.5500</td>\n",
       "      <td>2.058426e+06</td>\n",
       "      <td>248.881</td>\n",
       "      <td>5952.53</td>\n",
       "      <td>240</td>\n",
       "      <td>22.0253</td>\n",
       "      <td>2.648</td>\n",
       "    </tr>\n",
       "    <tr>\n",
       "      <th>2</th>\n",
       "      <td>10376.20</td>\n",
       "      <td>2613.88</td>\n",
       "      <td>0.25191</td>\n",
       "      <td>127.3370</td>\n",
       "      <td>1.434676e+06</td>\n",
       "      <td>160.093</td>\n",
       "      <td>4635.26</td>\n",
       "      <td>73</td>\n",
       "      <td>29.9963</td>\n",
       "      <td>1.688</td>\n",
       "    </tr>\n",
       "    <tr>\n",
       "      <th>3</th>\n",
       "      <td>13093.80</td>\n",
       "      <td>4510.06</td>\n",
       "      <td>0.34444</td>\n",
       "      <td>155.4400</td>\n",
       "      <td>1.812195e+06</td>\n",
       "      <td>173.015</td>\n",
       "      <td>5273.87</td>\n",
       "      <td>32</td>\n",
       "      <td>28.1354</td>\n",
       "      <td>3.796</td>\n",
       "    </tr>\n",
       "    <tr>\n",
       "      <th>4</th>\n",
       "      <td>7545.21</td>\n",
       "      <td>2882.36</td>\n",
       "      <td>0.38201</td>\n",
       "      <td>85.1237</td>\n",
       "      <td>1.043918e+06</td>\n",
       "      <td>124.414</td>\n",
       "      <td>3263.35</td>\n",
       "      <td>57</td>\n",
       "      <td>35.0200</td>\n",
       "      <td>18.023</td>\n",
       "    </tr>\n",
       "  </tbody>\n",
       "</table>\n",
       "</div>"
      ],
      "text/plain": [
       "   mass_npea  size_npear  malign_ratio  damage_size  exposed_area  \\\n",
       "0    6930.90     2919.02       0.42116      51.8298  9.888294e+05   \n",
       "1   15635.70     4879.36       0.31206     223.5500  2.058426e+06   \n",
       "2   10376.20     2613.88       0.25191     127.3370  1.434676e+06   \n",
       "3   13093.80     4510.06       0.34444     155.4400  1.812195e+06   \n",
       "4    7545.21     2882.36       0.38201      85.1237  1.043918e+06   \n",
       "\n",
       "   std_dev_malign  err_malign  malign_penalty  damage_ratio  tumor_size  \n",
       "0         109.487     2758.76              72       39.3620      14.103  \n",
       "1         248.881     5952.53             240       22.0253       2.648  \n",
       "2         160.093     4635.26              73       29.9963       1.688  \n",
       "3         173.015     5273.87              32       28.1354       3.796  \n",
       "4         124.414     3263.35              57       35.0200      18.023  "
      ]
     },
     "execution_count": 3,
     "metadata": {},
     "output_type": "execute_result"
    }
   ],
   "source": [
    "train.head()"
   ]
  },
  {
   "cell_type": "code",
   "execution_count": 4,
   "metadata": {},
   "outputs": [],
   "source": [
    "train['source']='train'\n",
    "test['source']='test'"
   ]
  },
  {
   "cell_type": "code",
   "execution_count": 5,
   "metadata": {},
   "outputs": [],
   "source": [
    "df=pd.concat([train,test])"
   ]
  },
  {
   "cell_type": "code",
   "execution_count": 6,
   "metadata": {},
   "outputs": [
    {
     "data": {
      "text/plain": [
       "(45730, 11)"
      ]
     },
     "execution_count": 6,
     "metadata": {},
     "output_type": "execute_result"
    }
   ],
   "source": [
    "df.shape"
   ]
  },
  {
   "cell_type": "code",
   "execution_count": 7,
   "metadata": {},
   "outputs": [
    {
     "data": {
      "text/plain": [
       "Index(['mass_npea', 'size_npear', 'malign_ratio', 'damage_size',\n",
       "       'exposed_area', 'std_dev_malign', 'err_malign', 'malign_penalty',\n",
       "       'damage_ratio', 'tumor_size', 'source'],\n",
       "      dtype='object')"
      ]
     },
     "execution_count": 7,
     "metadata": {},
     "output_type": "execute_result"
    }
   ],
   "source": [
    "df.columns"
   ]
  },
  {
   "cell_type": "code",
   "execution_count": 8,
   "metadata": {},
   "outputs": [
    {
     "data": {
      "text/html": [
       "<div>\n",
       "<style scoped>\n",
       "    .dataframe tbody tr th:only-of-type {\n",
       "        vertical-align: middle;\n",
       "    }\n",
       "\n",
       "    .dataframe tbody tr th {\n",
       "        vertical-align: top;\n",
       "    }\n",
       "\n",
       "    .dataframe thead th {\n",
       "        text-align: right;\n",
       "    }\n",
       "</style>\n",
       "<table border=\"1\" class=\"dataframe\">\n",
       "  <thead>\n",
       "    <tr style=\"text-align: right;\">\n",
       "      <th></th>\n",
       "      <th>mass_npea</th>\n",
       "      <th>size_npear</th>\n",
       "      <th>malign_ratio</th>\n",
       "      <th>damage_size</th>\n",
       "      <th>exposed_area</th>\n",
       "      <th>std_dev_malign</th>\n",
       "      <th>err_malign</th>\n",
       "      <th>malign_penalty</th>\n",
       "      <th>damage_ratio</th>\n",
       "      <th>tumor_size</th>\n",
       "    </tr>\n",
       "  </thead>\n",
       "  <tbody>\n",
       "    <tr>\n",
       "      <th>count</th>\n",
       "      <td>45730.000000</td>\n",
       "      <td>45730.000000</td>\n",
       "      <td>45730.000000</td>\n",
       "      <td>45730.000000</td>\n",
       "      <td>4.573000e+04</td>\n",
       "      <td>45730.000000</td>\n",
       "      <td>45730.000000</td>\n",
       "      <td>45730.000000</td>\n",
       "      <td>45730.000000</td>\n",
       "      <td>9146.000000</td>\n",
       "    </tr>\n",
       "    <tr>\n",
       "      <th>mean</th>\n",
       "      <td>9871.596995</td>\n",
       "      <td>3017.367175</td>\n",
       "      <td>0.302392</td>\n",
       "      <td>103.492433</td>\n",
       "      <td>1.368299e+06</td>\n",
       "      <td>145.638061</td>\n",
       "      <td>3989.755990</td>\n",
       "      <td>69.975071</td>\n",
       "      <td>34.523664</td>\n",
       "      <td>7.723348</td>\n",
       "    </tr>\n",
       "    <tr>\n",
       "      <th>std</th>\n",
       "      <td>4058.138034</td>\n",
       "      <td>1464.324663</td>\n",
       "      <td>0.062886</td>\n",
       "      <td>55.424985</td>\n",
       "      <td>5.640367e+05</td>\n",
       "      <td>69.999230</td>\n",
       "      <td>1993.574575</td>\n",
       "      <td>56.493443</td>\n",
       "      <td>5.979755</td>\n",
       "      <td>6.086852</td>\n",
       "    </tr>\n",
       "    <tr>\n",
       "      <th>min</th>\n",
       "      <td>2392.050000</td>\n",
       "      <td>403.500000</td>\n",
       "      <td>0.092500</td>\n",
       "      <td>10.310100</td>\n",
       "      <td>3.194902e+05</td>\n",
       "      <td>31.970400</td>\n",
       "      <td>0.000000</td>\n",
       "      <td>0.000000</td>\n",
       "      <td>15.228000</td>\n",
       "      <td>0.000000</td>\n",
       "    </tr>\n",
       "    <tr>\n",
       "      <th>25%</th>\n",
       "      <td>6936.680000</td>\n",
       "      <td>1979.045000</td>\n",
       "      <td>0.258740</td>\n",
       "      <td>63.563900</td>\n",
       "      <td>9.535912e+05</td>\n",
       "      <td>94.757500</td>\n",
       "      <td>3165.322500</td>\n",
       "      <td>31.000000</td>\n",
       "      <td>30.424725</td>\n",
       "      <td>2.320000</td>\n",
       "    </tr>\n",
       "    <tr>\n",
       "      <th>50%</th>\n",
       "      <td>8898.805000</td>\n",
       "      <td>2668.155000</td>\n",
       "      <td>0.300150</td>\n",
       "      <td>87.740800</td>\n",
       "      <td>1.237219e+06</td>\n",
       "      <td>126.176000</td>\n",
       "      <td>3840.170000</td>\n",
       "      <td>54.000000</td>\n",
       "      <td>35.299300</td>\n",
       "      <td>5.060500</td>\n",
       "    </tr>\n",
       "    <tr>\n",
       "      <th>75%</th>\n",
       "      <td>12126.150000</td>\n",
       "      <td>3786.410000</td>\n",
       "      <td>0.342890</td>\n",
       "      <td>133.646750</td>\n",
       "      <td>1.690920e+06</td>\n",
       "      <td>181.468500</td>\n",
       "      <td>4644.192500</td>\n",
       "      <td>91.000000</td>\n",
       "      <td>38.870800</td>\n",
       "      <td>13.336000</td>\n",
       "    </tr>\n",
       "    <tr>\n",
       "      <th>max</th>\n",
       "      <td>40034.900000</td>\n",
       "      <td>15312.000000</td>\n",
       "      <td>0.577690</td>\n",
       "      <td>369.317000</td>\n",
       "      <td>5.472011e+06</td>\n",
       "      <td>598.408000</td>\n",
       "      <td>105948.170000</td>\n",
       "      <td>350.000000</td>\n",
       "      <td>55.300900</td>\n",
       "      <td>20.999000</td>\n",
       "    </tr>\n",
       "  </tbody>\n",
       "</table>\n",
       "</div>"
      ],
      "text/plain": [
       "          mass_npea    size_npear  malign_ratio   damage_size  exposed_area  \\\n",
       "count  45730.000000  45730.000000  45730.000000  45730.000000  4.573000e+04   \n",
       "mean    9871.596995   3017.367175      0.302392    103.492433  1.368299e+06   \n",
       "std     4058.138034   1464.324663      0.062886     55.424985  5.640367e+05   \n",
       "min     2392.050000    403.500000      0.092500     10.310100  3.194902e+05   \n",
       "25%     6936.680000   1979.045000      0.258740     63.563900  9.535912e+05   \n",
       "50%     8898.805000   2668.155000      0.300150     87.740800  1.237219e+06   \n",
       "75%    12126.150000   3786.410000      0.342890    133.646750  1.690920e+06   \n",
       "max    40034.900000  15312.000000      0.577690    369.317000  5.472011e+06   \n",
       "\n",
       "       std_dev_malign     err_malign  malign_penalty  damage_ratio  \\\n",
       "count    45730.000000   45730.000000    45730.000000  45730.000000   \n",
       "mean       145.638061    3989.755990       69.975071     34.523664   \n",
       "std         69.999230    1993.574575       56.493443      5.979755   \n",
       "min         31.970400       0.000000        0.000000     15.228000   \n",
       "25%         94.757500    3165.322500       31.000000     30.424725   \n",
       "50%        126.176000    3840.170000       54.000000     35.299300   \n",
       "75%        181.468500    4644.192500       91.000000     38.870800   \n",
       "max        598.408000  105948.170000      350.000000     55.300900   \n",
       "\n",
       "        tumor_size  \n",
       "count  9146.000000  \n",
       "mean      7.723348  \n",
       "std       6.086852  \n",
       "min       0.000000  \n",
       "25%       2.320000  \n",
       "50%       5.060500  \n",
       "75%      13.336000  \n",
       "max      20.999000  "
      ]
     },
     "execution_count": 8,
     "metadata": {},
     "output_type": "execute_result"
    }
   ],
   "source": [
    "df.describe()"
   ]
  },
  {
   "cell_type": "code",
   "execution_count": 9,
   "metadata": {},
   "outputs": [
    {
     "name": "stdout",
     "output_type": "stream",
     "text": [
      "<class 'pandas.core.frame.DataFrame'>\n",
      "Int64Index: 45730 entries, 0 to 36583\n",
      "Data columns (total 11 columns):\n",
      " #   Column          Non-Null Count  Dtype  \n",
      "---  ------          --------------  -----  \n",
      " 0   mass_npea       45730 non-null  float64\n",
      " 1   size_npear      45730 non-null  float64\n",
      " 2   malign_ratio    45730 non-null  float64\n",
      " 3   damage_size     45730 non-null  float64\n",
      " 4   exposed_area    45730 non-null  float64\n",
      " 5   std_dev_malign  45730 non-null  float64\n",
      " 6   err_malign      45730 non-null  float64\n",
      " 7   malign_penalty  45730 non-null  int64  \n",
      " 8   damage_ratio    45730 non-null  float64\n",
      " 9   tumor_size      9146 non-null   float64\n",
      " 10  source          45730 non-null  object \n",
      "dtypes: float64(9), int64(1), object(1)\n",
      "memory usage: 4.2+ MB\n"
     ]
    }
   ],
   "source": [
    "df.info()"
   ]
  },
  {
   "cell_type": "code",
   "execution_count": 10,
   "metadata": {},
   "outputs": [
    {
     "data": {
      "text/plain": [
       "mass_npea             0\n",
       "size_npear            0\n",
       "malign_ratio          0\n",
       "damage_size           0\n",
       "exposed_area          0\n",
       "std_dev_malign        0\n",
       "err_malign            0\n",
       "malign_penalty        0\n",
       "damage_ratio          0\n",
       "tumor_size        36584\n",
       "source                0\n",
       "dtype: int64"
      ]
     },
     "execution_count": 10,
     "metadata": {},
     "output_type": "execute_result"
    }
   ],
   "source": [
    "df.isna().sum()"
   ]
  },
  {
   "cell_type": "code",
   "execution_count": 11,
   "metadata": {},
   "outputs": [
    {
     "data": {
      "text/plain": [
       "<matplotlib.axes._subplots.AxesSubplot at 0xb5d2ac0>"
      ]
     },
     "execution_count": 11,
     "metadata": {},
     "output_type": "execute_result"
    },
    {
     "data": {
      "image/png": "[encoded data removed]",
      "text/plain": [
       "<Figure size 432x288 with 1 Axes>"
      ]
     },
     "metadata": {
      "needs_background": "light"
     },
     "output_type": "display_data"
    }
   ],
   "source": [
    "df[\"size_npear\"].plot(kind = \"box\")"
   ]
  },
  {
   "cell_type": "code",
   "execution_count": 12,
   "metadata": {},
   "outputs": [
    {
     "data": {
      "text/plain": [
       "<matplotlib.axes._subplots.AxesSubplot at 0xb93df40>"
      ]
     },
     "execution_count": 12,
     "metadata": {},
     "output_type": "execute_result"
    },
    {
     "data": {
      "image/png": "[encoded data removed]",
      "text/plain": [
       "<Figure size 432x288 with 1 Axes>"
      ]
     },
     "metadata": {
      "needs_background": "light"
     },
     "output_type": "display_data"
    }
   ],
   "source": [
    "df[\"mass_npea\"].plot(kind = \"box\")"
   ]
  },
  {
   "cell_type": "code",
   "execution_count": 13,
   "metadata": {},
   "outputs": [
    {
     "data": {
      "text/plain": [
       "<matplotlib.axes._subplots.AxesSubplot at 0xbe2e100>"
      ]
     },
     "execution_count": 13,
     "metadata": {},
     "output_type": "execute_result"
    },
    {
     "data": {
      "image/png": "[encoded data removed]",
      "text/plain": [
       "<Figure size 432x288 with 1 Axes>"
      ]
     },
     "metadata": {
      "needs_background": "light"
     },
     "output_type": "display_data"
    }
   ],
   "source": [
    "df[\"malign_ratio\"].plot(kind = \"box\")"
   ]
  },
  {
   "cell_type": "code",
   "execution_count": 14,
   "metadata": {},
   "outputs": [
    {
     "data": {
      "text/plain": [
       "<matplotlib.axes._subplots.AxesSubplot at 0xc3f3940>"
      ]
     },
     "execution_count": 14,
     "metadata": {},
     "output_type": "execute_result"
    },
    {
     "data": {
      "image/png": "[encoded data removed]",
      "text/plain": [
       "<Figure size 432x288 with 1 Axes>"
      ]
     },
     "metadata": {
      "needs_background": "light"
     },
     "output_type": "display_data"
    }
   ],
   "source": [
    "df[\"damage_size\"].plot(kind = \"box\")"
   ]
  },
  {
   "cell_type": "code",
   "execution_count": 15,
   "metadata": {},
   "outputs": [
    {
     "data": {
      "text/plain": [
       "<matplotlib.axes._subplots.AxesSubplot at 0xc480d00>"
      ]
     },
     "execution_count": 15,
     "metadata": {},
     "output_type": "execute_result"
    },
    {
     "data": {
      "image/png": "[encoded data removed]",
      "text/plain": [
       "<Figure size 432x288 with 2 Axes>"
      ]
     },
     "metadata": {
      "needs_background": "light"
     },
     "output_type": "display_data"
    }
   ],
   "source": [
    "sns.heatmap(df.corr(),annot=True)"
   ]
  },
  {
   "cell_type": "code",
   "execution_count": 16,
   "metadata": {},
   "outputs": [],
   "source": [
    "df1=df[df.source=='train']"
   ]
  },
  {
   "cell_type": "code",
   "execution_count": 17,
   "metadata": {},
   "outputs": [
    {
     "data": {
      "text/plain": [
       "(9146, 11)"
      ]
     },
     "execution_count": 17,
     "metadata": {},
     "output_type": "execute_result"
    }
   ],
   "source": [
    "df1.shape"
   ]
  },
  {
   "cell_type": "code",
   "execution_count": 18,
   "metadata": {},
   "outputs": [
    {
     "name": "stdout",
     "output_type": "stream",
     "text": [
      "          feature          VIF\n",
      "0       mass_npea  2793.393763\n",
      "1      size_npear   168.999278\n",
      "2    malign_ratio   119.359750\n",
      "3     damage_size    62.756775\n",
      "4    exposed_area  2124.420812\n",
      "5  std_dev_malign   136.224276\n",
      "6      err_malign     7.272833\n",
      "7  malign_penalty     4.839727\n",
      "8    damage_ratio    69.577738\n"
     ]
    }
   ],
   "source": [
    "#Check for Multi Collinearity\n",
    "from statsmodels.stats.outliers_influence import variance_inflation_factor \n",
    "\n",
    "# the independent variables set \n",
    "X = df.select_dtypes(include=np.number).drop(columns=[\"tumor_size\"])\n",
    "  \n",
    "# VIF dataframe \n",
    "vif_data = pd.DataFrame() \n",
    "vif_data[\"feature\"] = X.columns \n",
    "  \n",
    "# calculating VIF for each feature \n",
    "vif_data[\"VIF\"] = [variance_inflation_factor(X.values, i) \n",
    "                          for i in range(len(X.columns))] \n",
    "  \n",
    "print(vif_data)\n"
   ]
  },
  {
   "cell_type": "code",
   "execution_count": 31,
   "metadata": {},
   "outputs": [],
   "source": [
    "X=df1.drop(columns=['tumor_size','source'])\n",
    "y=df1['tumor_size']"
   ]
  },
  {
   "cell_type": "code",
   "execution_count": 32,
   "metadata": {},
   "outputs": [],
   "source": [
    "train_X,test_X,train_y,test_y=train_test_split(X,y,test_size=0.3,random_state=42)"
   ]
  },
  {
   "cell_type": "code",
   "execution_count": 33,
   "metadata": {},
   "outputs": [],
   "source": [
    "def run_model(model,train_X,test_X,train_y,test_y): \n",
    "    print(\"Model: \",model)\n",
    "    model.fit(train_X,train_y)\n",
    "    y_pred=model.predict(test_X)\n",
    "    print(\"RMSE :\",np.sqrt(mean_squared_error(test_y,y_pred)))\n"
   ]
  },
  {
   "cell_type": "code",
   "execution_count": 34,
   "metadata": {},
   "outputs": [
    {
     "name": "stdout",
     "output_type": "stream",
     "text": [
      "Model:  LinearRegression()\n",
      "RMSE : 5.22662421817924\n"
     ]
    }
   ],
   "source": [
    "model=LinearRegression()\n",
    "run_model(model,train_X,test_X,train_y,test_y)"
   ]
  },
  {
   "cell_type": "code",
   "execution_count": 35,
   "metadata": {},
   "outputs": [
    {
     "name": "stdout",
     "output_type": "stream",
     "text": [
      "Model:  Lasso(alpha=0.5)\n",
      "RMSE : 5.25573863661708\n"
     ]
    },
    {
     "name": "stderr",
     "output_type": "stream",
     "text": [
      "C:\\Users\\WELCOME\\anaconda3\\lib\\site-packages\\sklearn\\linear_model\\_coordinate_descent.py:529: ConvergenceWarning: Objective did not converge. You might want to increase the number of iterations. Duality gap: 81547.59009812427, tolerance: 23.93440369870153\n",
      "  model = cd_fast.enet_coordinate_descent(\n"
     ]
    }
   ],
   "source": [
    "model=Lasso(alpha=0.5)\n",
    "run_model(model,train_X,test_X,train_y,test_y)"
   ]
  },
  {
   "cell_type": "code",
   "execution_count": 36,
   "metadata": {},
   "outputs": [
    {
     "name": "stdout",
     "output_type": "stream",
     "text": [
      "Model:  Ridge()\n",
      "RMSE : 5.231053092295003\n"
     ]
    }
   ],
   "source": [
    "model=Ridge()\n",
    "run_model(model,train_X,test_X,train_y,test_y)"
   ]
  },
  {
   "cell_type": "code",
   "execution_count": 37,
   "metadata": {},
   "outputs": [
    {
     "name": "stdout",
     "output_type": "stream",
     "text": [
      "Model:  ElasticNet()\n",
      "RMSE : 5.255397525011569\n"
     ]
    },
    {
     "name": "stderr",
     "output_type": "stream",
     "text": [
      "C:\\Users\\WELCOME\\anaconda3\\lib\\site-packages\\sklearn\\linear_model\\_coordinate_descent.py:529: ConvergenceWarning: Objective did not converge. You might want to increase the number of iterations. Duality gap: 81537.95486368646, tolerance: 23.93440369870153\n",
      "  model = cd_fast.enet_coordinate_descent(\n"
     ]
    }
   ],
   "source": [
    "model=ElasticNet()\n",
    "run_model(model,train_X,test_X,train_y,test_y)"
   ]
  },
  {
   "cell_type": "code",
   "execution_count": 38,
   "metadata": {},
   "outputs": [],
   "source": [
    "X=df1.drop(columns=['tumor_size','source'])"
   ]
  },
  {
   "cell_type": "code",
   "execution_count": 43,
   "metadata": {},
   "outputs": [
    {
     "name": "stdout",
     "output_type": "stream",
     "text": [
      "Model:  LinearRegression()\n",
      "RMSE : 4.867134494405341\n"
     ]
    }
   ],
   "source": [
    "poly=PolynomialFeatures(degree=2)\n",
    "X_train=poly.fit_transform(train_X)\n",
    "X_test=poly.fit_transform(test_X)\n",
    "model=LinearRegression()\n",
    "run_model(model,X_train,X_test,train_y,test_y)"
   ]
  },
  {
   "cell_type": "code",
   "execution_count": 40,
   "metadata": {},
   "outputs": [],
   "source": [
    "def MAPE(Y_actual,Y_Predicted):\n",
    "    mape = np.mean(np.abs((Y_actual - Y_Predicted)/Y_actual))*100\n",
    "    return mape"
   ]
  },
  {
   "cell_type": "code",
   "execution_count": 48,
   "metadata": {},
   "outputs": [
    {
     "name": "stdout",
     "output_type": "stream",
     "text": [
      "Model:  Lasso(alpha=0.001)\n",
      "RMSE : 4.980707336133366\n"
     ]
    },
    {
     "name": "stderr",
     "output_type": "stream",
     "text": [
      "C:\\Users\\WELCOME\\anaconda3\\lib\\site-packages\\sklearn\\linear_model\\_coordinate_descent.py:529: ConvergenceWarning: Objective did not converge. You might want to increase the number of iterations. Duality gap: 75775.28889887407, tolerance: 23.93440369870153\n",
      "  model = cd_fast.enet_coordinate_descent(\n"
     ]
    }
   ],
   "source": [
    "poly=PolynomialFeatures(degree=2)\n",
    "X_train=poly.fit_transform(train_X)\n",
    "X_test=poly.fit_transform(test_X)\n",
    "model=Lasso(alpha=0.001)\n",
    "run_model(model,X_train,X_test,train_y,test_y)"
   ]
  },
  {
   "cell_type": "code",
   "execution_count": 52,
   "metadata": {},
   "outputs": [
    {
     "name": "stdout",
     "output_type": "stream",
     "text": [
      "Model:  SVR(gamma=1)\n",
      "RMSE : 6.524760171569864\n"
     ]
    }
   ],
   "source": [
    "run_model(SVR(gamma=1),train_X,test_X,train_y,test_y)"
   ]
  },
  {
   "cell_type": "code",
   "execution_count": 60,
   "metadata": {},
   "outputs": [
    {
     "name": "stdout",
     "output_type": "stream",
     "text": [
      "Model:  DecisionTreeRegressor(max_depth=7)\n",
      "RMSE : 5.039083317609711\n"
     ]
    }
   ],
   "source": [
    "run_model(DecisionTreeRegressor(max_depth=7),train_X,test_X,train_y,test_y)"
   ]
  },
  {
   "cell_type": "code",
   "execution_count": 59,
   "metadata": {},
   "outputs": [
    {
     "name": "stdout",
     "output_type": "stream",
     "text": [
      "Model:  RandomForestRegressor(max_depth=6, random_state=43)\n",
      "RMSE : 4.753802562386297\n"
     ]
    }
   ],
   "source": [
    "run_model(RandomForestRegressor(max_depth=6,random_state=43),train_X,test_X,train_y,test_y)"
   ]
  },
  {
   "cell_type": "code",
   "execution_count": 63,
   "metadata": {},
   "outputs": [
    {
     "name": "stdout",
     "output_type": "stream",
     "text": [
      "Model:  AdaBoostRegressor(base_estimator=RandomForestRegressor(max_depth=6,\n",
      "                                                       random_state=43))\n",
      "RMSE : 4.768578508132512\n"
     ]
    }
   ],
   "source": [
    "run_model(AdaBoostRegressor(base_estimator=RandomForestRegressor(max_depth=6,random_state=43)),train_X,test_X,train_y,test_y)"
   ]
  },
  {
   "cell_type": "code",
   "execution_count": 67,
   "metadata": {},
   "outputs": [
    {
     "name": "stdout",
     "output_type": "stream",
     "text": [
      "Model:  GradientBoostingRegressor(n_estimators=150)\n",
      "RMSE : 4.57225255394815\n"
     ]
    }
   ],
   "source": [
    "run_model(GradientBoostingRegressor(n_estimators=150),train_X,test_X,train_y,test_y)"
   ]
  },
  {
   "cell_type": "code",
   "execution_count": 69,
   "metadata": {},
   "outputs": [
    {
     "name": "stdout",
     "output_type": "stream",
     "text": [
      "Model:  AdaBoostRegressor(base_estimator=GradientBoostingRegressor(n_estimators=150))\n",
      "RMSE : 4.746457795199991\n"
     ]
    }
   ],
   "source": [
    "run_model(AdaBoostRegressor(GradientBoostingRegressor(n_estimators=150)),train_X,test_X,train_y,test_y)"
   ]
  },
  {
   "cell_type": "code",
   "execution_count": 76,
   "metadata": {},
   "outputs": [
    {
     "name": "stdout",
     "output_type": "stream",
     "text": [
      "Model:  VotingRegressor(estimators=[('GBM',\n",
      "                             GradientBoostingRegressor(n_estimators=150)),\n",
      "                            ('ADB',\n",
      "                             AdaBoostRegressor(base_estimator=GradientBoostingRegressor(n_estimators=150))),\n",
      "                            ('RF',\n",
      "                             RandomForestRegressor(max_depth=6,\n",
      "                                                   random_state=43))])\n",
      "RMSE : 4.574175139902953\n"
     ]
    }
   ],
   "source": [
    "estimators = []\n",
    "estimators.append(('GBM', GradientBoostingRegressor(n_estimators=150)))\n",
    "estimators.append(('ADB', AdaBoostRegressor(GradientBoostingRegressor(n_estimators=150))))\n",
    "estimators.append(('RF', RandomForestRegressor(max_depth=6,random_state=43)))\n",
    "run_model(VotingRegressor(estimators),train_X,test_X,train_y,test_y)    "
   ]
  },
  {
   "cell_type": "code",
   "execution_count": 77,
   "metadata": {},
   "outputs": [
    {
     "name": "stdout",
     "output_type": "stream",
     "text": [
      "<class 'pandas.core.frame.DataFrame'>\n",
      "RangeIndex: 36584 entries, 0 to 36583\n",
      "Data columns (total 10 columns):\n",
      " #   Column          Non-Null Count  Dtype  \n",
      "---  ------          --------------  -----  \n",
      " 0   mass_npea       36584 non-null  float64\n",
      " 1   size_npear      36584 non-null  float64\n",
      " 2   malign_ratio    36584 non-null  float64\n",
      " 3   damage_size     36584 non-null  float64\n",
      " 4   exposed_area    36584 non-null  float64\n",
      " 5   std_dev_malign  36584 non-null  float64\n",
      " 6   err_malign      36584 non-null  float64\n",
      " 7   malign_penalty  36584 non-null  int64  \n",
      " 8   damage_ratio    36584 non-null  float64\n",
      " 9   source          36584 non-null  object \n",
      "dtypes: float64(8), int64(1), object(1)\n",
      "memory usage: 2.8+ MB\n"
     ]
    }
   ],
   "source": [
    "test.info()"
   ]
  },
  {
   "cell_type": "code",
   "execution_count": 79,
   "metadata": {},
   "outputs": [],
   "source": [
    "model=GradientBoostingRegressor(n_estimators=150)\n",
    "model.fit(train_X,train_y)\n",
    "test_X=test.drop(columns=['source'])\n",
    "y_target= model.predict(test_X)"
   ]
  },
  {
   "cell_type": "code",
   "execution_count": 80,
   "metadata": {
    "collapsed": true
   },
   "outputs": [
    {
     "data": {
      "text/html": [
       "<div>\n",
       "<style scoped>\n",
       "    .dataframe tbody tr th:only-of-type {\n",
       "        vertical-align: middle;\n",
       "    }\n",
       "\n",
       "    .dataframe tbody tr th {\n",
       "        vertical-align: top;\n",
       "    }\n",
       "\n",
       "    .dataframe thead th {\n",
       "        text-align: right;\n",
       "    }\n",
       "</style>\n",
       "<table border=\"1\" class=\"dataframe\">\n",
       "  <thead>\n",
       "    <tr style=\"text-align: right;\">\n",
       "      <th></th>\n",
       "      <th>tumor_size</th>\n",
       "    </tr>\n",
       "  </thead>\n",
       "  <tbody>\n",
       "    <tr>\n",
       "      <th>0</th>\n",
       "      <td>3.418762</td>\n",
       "    </tr>\n",
       "    <tr>\n",
       "      <th>1</th>\n",
       "      <td>7.348026</td>\n",
       "    </tr>\n",
       "    <tr>\n",
       "      <th>2</th>\n",
       "      <td>3.096391</td>\n",
       "    </tr>\n",
       "    <tr>\n",
       "      <th>3</th>\n",
       "      <td>10.489805</td>\n",
       "    </tr>\n",
       "    <tr>\n",
       "      <th>4</th>\n",
       "      <td>27.416072</td>\n",
       "    </tr>\n",
       "    <tr>\n",
       "      <th>...</th>\n",
       "      <td>...</td>\n",
       "    </tr>\n",
       "    <tr>\n",
       "      <th>36579</th>\n",
       "      <td>6.980089</td>\n",
       "    </tr>\n",
       "    <tr>\n",
       "      <th>36580</th>\n",
       "      <td>7.591675</td>\n",
       "    </tr>\n",
       "    <tr>\n",
       "      <th>36581</th>\n",
       "      <td>7.315385</td>\n",
       "    </tr>\n",
       "    <tr>\n",
       "      <th>36582</th>\n",
       "      <td>4.724118</td>\n",
       "    </tr>\n",
       "    <tr>\n",
       "      <th>36583</th>\n",
       "      <td>3.169346</td>\n",
       "    </tr>\n",
       "  </tbody>\n",
       "</table>\n",
       "<p>36584 rows × 1 columns</p>\n",
       "</div>"
      ],
      "text/plain": [
       "       tumor_size\n",
       "0        3.418762\n",
       "1        7.348026\n",
       "2        3.096391\n",
       "3       10.489805\n",
       "4       27.416072\n",
       "...           ...\n",
       "36579    6.980089\n",
       "36580    7.591675\n",
       "36581    7.315385\n",
       "36582    4.724118\n",
       "36583    3.169346\n",
       "\n",
       "[36584 rows x 1 columns]"
      ]
     },
     "execution_count": 80,
     "metadata": {},
     "output_type": "execute_result"
    }
   ],
   "source": [
    "pd.read_csv('sample_submission.csv')"
   ]
  },
  {
   "cell_type": "code",
   "execution_count": 81,
   "metadata": {},
   "outputs": [],
   "source": [
    "df_final=pd.DataFrame(y_target,columns=['tumor_size'])\n",
    "df_final.to_csv('TumorSize.csv',index=False)"
   ]
  }
 ],
 "metadata": {
  "kernelspec": {
   "display_name": "Python 3",
   "language": "python",
   "name": "python3"
  },
  "language_info": {
   "codemirror_mode": {
    "name": "ipython",
    "version": 3
   },
   "file_extension": ".py",
   "mimetype": "text/x-python",
   "name": "python",
   "nbconvert_exporter": "python",
   "pygments_lexer": "ipython3",
   "version": "3.8.3"
  }
 },
 "nbformat": 4,
 "nbformat_minor": 4
}
